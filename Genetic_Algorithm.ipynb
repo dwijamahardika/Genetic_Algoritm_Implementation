{
  "nbformat": 4,
  "nbformat_minor": 0,
  "metadata": {
    "colab": {
      "name": "Genetic_Algorithm.ipynb",
      "provenance": [],
      "collapsed_sections": [],
      "include_colab_link": true
    },
    "kernelspec": {
      "name": "python3",
      "display_name": "Python 3"
    }
  },
  "cells": [
    {
      "cell_type": "markdown",
      "metadata": {
        "id": "view-in-github",
        "colab_type": "text"
      },
      "source": [
        "<a href=\"https://colab.research.google.com/github/dwijamahardika/Genetic_Algoritm_Implementation/blob/main/Genetic_Algorithm.ipynb\" target=\"_parent\"><img src=\"https://colab.research.google.com/assets/colab-badge.svg\" alt=\"Open In Colab\"/></a>"
      ]
    },
    {
      "cell_type": "markdown",
      "metadata": {
        "id": "Zzhhbrw4jsQC"
      },
      "source": [
        "**Import Library**"
      ]
    },
    {
      "cell_type": "code",
      "metadata": {
        "id": "BpGKTnA7TX8f"
      },
      "source": [
        "import random\n",
        "import math"
      ],
      "execution_count": null,
      "outputs": []
    },
    {
      "cell_type": "markdown",
      "metadata": {
        "id": "IC8NnTut7ofn"
      },
      "source": [
        "**Random Seed**"
      ]
    },
    {
      "cell_type": "code",
      "metadata": {
        "id": "wAeuVslI60MN"
      },
      "source": [
        "# digunakan agar frekuensi random tetap dan menghasilkan hasil yang sama\n",
        "seed = 100000\n",
        "random.seed(seed)"
      ],
      "execution_count": null,
      "outputs": []
    },
    {
      "cell_type": "markdown",
      "metadata": {
        "id": "lRox9exHXGX_"
      },
      "source": [
        "\n",
        "**Making of Chromosome in Binary Representations**"
      ]
    },
    {
      "cell_type": "code",
      "metadata": {
        "id": "wtayb5NDVuvM"
      },
      "source": [
        "def generate_krom(n):\n",
        "  krom = [] # pembuatan list kromosom\n",
        "  for i in range(n):\n",
        "    krom.append(random.randint(0,1))\n",
        "  return krom"
      ],
      "execution_count": null,
      "outputs": []
    },
    {
      "cell_type": "markdown",
      "metadata": {
        "id": "RVkuJntHjkoV"
      },
      "source": [
        "**Making of Population in Binary Representations**"
      ]
    },
    {
      "cell_type": "code",
      "metadata": {
        "id": "2tkNKy0wzivO"
      },
      "source": [
        "def generate_pop(len_krom, n):\n",
        "    #input : len_krom = Panjang list kromosom, n = Jumlah kromosom pada populasi.\n",
        "    #output: Kromosom dalam representasi biner.\n",
        "    populasi = []\n",
        "    for i in range(n):\n",
        "      krom = generate_krom(len_krom)\n",
        "      populasi.append(krom)\n",
        "    return populasi"
      ],
      "execution_count": null,
      "outputs": []
    },
    {
      "cell_type": "markdown",
      "metadata": {
        "id": "PBnNR1SLj0g9"
      },
      "source": [
        "**Decode Kromosom in Binary Representations**"
      ]
    },
    {
      "cell_type": "code",
      "metadata": {
        "id": "1kgAqm_NTbGH"
      },
      "source": [
        "def decode_krom(kromosom, batas_x, batas_y):\n",
        "    # Decode Kromosom menghasilkan x dan y\n",
        "    # membagi dua list kromosom\n",
        "    mid_krom = len(kromosom) // 2\n",
        "    # perhitungan terkiri pada rumus\n",
        "    kiri = 0\n",
        "    krom_x = kromosom[:mid_krom]\n",
        "    for i in range(1, mid_krom + 1):\n",
        "        kiri += krom_x[i-1] * (2 ** -i)\n",
        "    # perhitungan terkanan pada rumus\n",
        "    kanan = 0\n",
        "    krom_y = kromosom[mid_krom:]\n",
        "    for i in range(1, mid_krom + 1):\n",
        "        kanan += krom_y[i-1] * (2 ** -i)\n",
        "    # hitung bagian bawah rumus\n",
        "    bawah = sum([2 ** -(i) for i in range(1, mid_krom + 1)])\n",
        "    # hitung x dan y\n",
        "    x = batas_x[\"min\"] + (kiri * (batas_x[\"max\"] - batas_x[\"min\"]) / bawah)\n",
        "    y = batas_y[\"min\"] + (kanan * (batas_y[\"max\"] - batas_y[\"min\"]) / bawah)\n",
        "\n",
        "    return x, y"
      ],
      "execution_count": null,
      "outputs": []
    },
    {
      "cell_type": "markdown",
      "metadata": {
        "id": "1D7a1Tv970Rw"
      },
      "source": [
        "**Fitness**"
      ]
    },
    {
      "cell_type": "code",
      "metadata": {
        "id": "grYbIMCJTdH2"
      },
      "source": [
        "def fitness(x, y):\n",
        "    # nilai maximum dari fungsi\n",
        "    return f(x, y)"
      ],
      "execution_count": null,
      "outputs": []
    },
    {
      "cell_type": "markdown",
      "metadata": {
        "id": "qiT8VpL6bd6U"
      },
      "source": [
        "**Parent Selection using Roulette Wheel Selection**"
      ]
    },
    {
      "cell_type": "code",
      "metadata": {
        "id": "8C5r734uTfBI"
      },
      "source": [
        "def rws(pop, fitness_pop):\n",
        "    #  normalitaion fitness value\n",
        "    min_ = min(fitness_pop)\n",
        "    max_ = max(fitness_pop)\n",
        "    for i in range(len(pop)):\n",
        "        fitness_pop[i] = (fitness_pop[i] - min_) / (max_ - min_) \n",
        "    total = sum(fitness_pop)\n",
        "    # roulette wheel\n",
        "    parent = []\n",
        "    while len(parent) != 2:\n",
        "        range_ = random.random()\n",
        "        i = -1\n",
        "        while range_ > 0:\n",
        "            i = i + 1\n",
        "            range_ = range_ - (fitness_pop[i] / total)\n",
        "        parent.append(pop[i])\n",
        "    return parent"
      ],
      "execution_count": null,
      "outputs": []
    },
    {
      "cell_type": "markdown",
      "metadata": {
        "id": "nOQJ5uhFizyc"
      },
      "source": [
        "**Parent Selection using Tournament Selection**"
      ]
    },
    {
      "cell_type": "code",
      "metadata": {
        "id": "IyQ_CekEfIKZ"
      },
      "source": [
        "def tournament_selection(pop, fitness_pop):\n",
        "  # tournament selection\n",
        "  parent = random.sample(list(zip(pop,fitness_pop)),random.randint(2, n_pop))\n",
        "  parent = sorted(parent,key= lambda k:k[1],reverse=True)\n",
        "  return [parent[0][0], parent[1][0]]\n"
      ],
      "execution_count": null,
      "outputs": []
    },
    {
      "cell_type": "markdown",
      "metadata": {
        "id": "N5dybzHFZqZo"
      },
      "source": [
        "**Crossover using Two-Points**"
      ]
    },
    {
      "cell_type": "code",
      "metadata": {
        "id": "pwqm44viThxk"
      },
      "source": [
        "def crossover(parent):\n",
        "    # random dua titik potong\n",
        "    cross_point1 = random.randint(0, len(parent[0]))\n",
        "    cross_point2 = random.randint(cross_point1, len(parent[0]))\n",
        "    # persilangan dalam membuat dua child\n",
        "    child = [0, 0]\n",
        "    child[0] = parent[0][:cross_point1] + parent[1][cross_point1:cross_point2] + parent[0][cross_point2:]\n",
        "    child[1] = parent[1][:cross_point1] + parent[0][cross_point1:cross_point2] + parent[1][cross_point2:]\n",
        "    return child"
      ],
      "execution_count": null,
      "outputs": []
    },
    {
      "cell_type": "markdown",
      "metadata": {
        "id": "Gbl8TFf1aanG"
      },
      "source": [
        "**Mutation**"
      ]
    },
    {
      "cell_type": "code",
      "metadata": {
        "id": "DdrrNinBTjgL"
      },
      "source": [
        "def mutation(child, pm):\n",
        "    #mutation for error stimulation\n",
        "    for i in range(2):\n",
        "        for j in range(len(child[0])):\n",
        "            if random.random() <= pm:\n",
        "                child[i][j] = [0, 1][ not child[i][j] ]\n",
        "    return child"
      ],
      "execution_count": null,
      "outputs": []
    },
    {
      "cell_type": "markdown",
      "metadata": {
        "id": "9E3wbHadbHTY"
      },
      "source": [
        "**Function**"
      ]
    },
    {
      "cell_type": "code",
      "metadata": {
        "id": "6pYNDf5wTnoS"
      },
      "source": [
        "def f(x, y):\n",
        "    return ((math.cos(x**2) * math.sin(y**2)) + (x + y))"
      ],
      "execution_count": null,
      "outputs": []
    },
    {
      "cell_type": "markdown",
      "metadata": {
        "id": "fNNkD0Xb6RgO"
      },
      "source": [
        "**Global Variable**"
      ]
    },
    {
      "cell_type": "code",
      "metadata": {
        "id": "INh4CtV1goTM"
      },
      "source": [
        "pc = 0.7 #probabilitas crossover\n",
        "pm = 0.1 #probabilitas mutasi\n",
        "n_elitisme = 2 #banyaknya kromosom terbaik yang diambil\n",
        "n_pop, len_krom =20, 10 #banyaknya populasi dan panjang kromosom\n",
        "gen = 30 #banyaknya gen yang akan dibuat\n",
        "best = [] #variabel untuk fitness terbaik\n",
        "pop = generate_pop(len_krom, n_pop) #list populasi\n",
        "batas_x = {\"min\" : -1, \"max\" : 2} #batasan untuk x\n",
        "batas_y = {\"min\" : -1, \"max\" : 1} #batasan untuk y"
      ],
      "execution_count": null,
      "outputs": []
    },
    {
      "cell_type": "markdown",
      "metadata": {
        "id": "I4Cm8QM8dEZ_"
      },
      "source": [
        "**Main Function**"
      ]
    },
    {
      "cell_type": "code",
      "metadata": {
        "colab": {
          "base_uri": "https://localhost:8080/"
        },
        "id": "W8BhLzDjT4Ml",
        "outputId": "2b1a120f-7449-4e11-864e-52071857b9d7"
      },
      "source": [
        "for i in range(gen):\n",
        "    fitness_pop = []\n",
        "    for kromosom in pop:\n",
        "        x, y = decode_krom(kromosom, batas_x, batas_y)\n",
        "        fitness_pop.append(fitness(x, y))\n",
        "    best.append( max(fitness_pop) ) #fitness terbaik lokal ditambahkan dalam list fitness terbaik global\n",
        "    sorted_pop = [k for _, k in sorted(zip(fitness_pop, pop), reverse=True)] #pengurutan fitness dari terkuat hingga terlemah\n",
        "    new_pop = sorted_pop[:n_elitisme] #menjalankan elitisme\n",
        "    #melihat perkembangan solusi yang didapatkan per-generasi\n",
        "    if (i+1)%3 == 0:\n",
        "      print(f\"Generasi ke-{i + 1}: \")\n",
        "      print(f\"Best: {max(best)}; Kromosom Terbaik: {new_pop[0]} ; nilai x,y: {decode_krom(new_pop[0], batas_x, batas_y)}\")\n",
        "      print()\n",
        "    while len(new_pop) <= n_pop:\n",
        "        #seleksi orang tua\n",
        "        parent = tournament_selection(pop, fitness_pop)\n",
        "        # crossover dan mutasi\n",
        "        if random.random() <= pc:\n",
        "            child = mutation(crossover(parent), pm)\n",
        "        else:\n",
        "            child = parent + []\n",
        "        # menambahkan populasi baru\n",
        "        new_pop = new_pop + child\n",
        "    pop = new_pop + []\n",
        "print(\"================================== Best Generation ==================================\")\n",
        "print(f\"Best Fitness: {max(best)}\") #best fitness sampai generasi terakhir\n",
        "print(f\"Kromosom Terbaik: {pop[0]}\") #kromosom terbaik\n",
        "print(f\"Nilai x dan y: {decode_krom(pop[0],batas_x,batas_y)}\") # nilai x dan y hasil dekode kromosom terbaik"
      ],
      "execution_count": null,
      "outputs": [
        {
          "output_type": "stream",
          "text": [
            "Generasi ke-3: \n",
            "Best: 2.4337294628650743; Kromosom Terbaik: [1, 1, 1, 1, 1, 1, 1, 1, 1, 0] ; nilai x,y: (2.0, 0.935483870967742)\n",
            "\n",
            "Generasi ke-6: \n",
            "Best: 2.4499778586384973; Kromosom Terbaik: [1, 1, 1, 1, 1, 1, 1, 1, 1, 1] ; nilai x,y: (2.0, 1.0)\n",
            "\n",
            "Generasi ke-9: \n",
            "Best: 2.4499778586384973; Kromosom Terbaik: [1, 1, 1, 1, 1, 1, 1, 1, 1, 1] ; nilai x,y: (2.0, 1.0)\n",
            "\n",
            "Generasi ke-12: \n",
            "Best: 2.4804368980667126; Kromosom Terbaik: [1, 0, 0, 1, 1, 1, 1, 1, 1, 1] ; nilai x,y: (0.8387096774193548, 1.0)\n",
            "\n",
            "Generasi ke-15: \n",
            "Best: 2.4804368980667126; Kromosom Terbaik: [1, 0, 0, 1, 1, 1, 1, 1, 1, 1] ; nilai x,y: (0.8387096774193548, 1.0)\n",
            "\n",
            "Generasi ke-18: \n",
            "Best: 2.4804368980667126; Kromosom Terbaik: [1, 0, 0, 1, 1, 1, 1, 1, 1, 1] ; nilai x,y: (0.8387096774193548, 1.0)\n",
            "\n",
            "Generasi ke-21: \n",
            "Best: 2.4804368980667126; Kromosom Terbaik: [1, 0, 0, 1, 1, 1, 1, 1, 1, 1] ; nilai x,y: (0.8387096774193548, 1.0)\n",
            "\n",
            "Generasi ke-24: \n",
            "Best: 2.4804368980667126; Kromosom Terbaik: [1, 0, 0, 1, 1, 1, 1, 1, 1, 1] ; nilai x,y: (0.8387096774193548, 1.0)\n",
            "\n",
            "Generasi ke-27: \n",
            "Best: 2.4804368980667126; Kromosom Terbaik: [1, 0, 0, 1, 1, 1, 1, 1, 1, 1] ; nilai x,y: (0.8387096774193548, 1.0)\n",
            "\n",
            "Generasi ke-30: \n",
            "Best: 2.4804368980667126; Kromosom Terbaik: [1, 0, 0, 1, 1, 1, 1, 1, 1, 1] ; nilai x,y: (0.8387096774193548, 1.0)\n",
            "\n",
            "================================== Best Generation ==================================\n",
            "Best Fitness: 2.4804368980667126\n",
            "Kromosom Terbaik: [1, 0, 0, 1, 1, 1, 1, 1, 1, 1]\n",
            "Nilai x dan y: (0.8387096774193548, 1.0)\n"
          ],
          "name": "stdout"
        }
      ]
    },
    {
      "cell_type": "markdown",
      "metadata": {
        "id": "LPnrjzScFDfy"
      },
      "source": [
        "**Growth of Fitness Visualization**"
      ]
    },
    {
      "cell_type": "code",
      "metadata": {
        "colab": {
          "base_uri": "https://localhost:8080/",
          "height": 295
        },
        "id": "1ovqRmTyT7Fe",
        "outputId": "f82971b9-bfa5-4079-814a-06e1b3732b9f"
      },
      "source": [
        "import matplotlib.pyplot as plt\n",
        "plt.grid(linestyle=\"-\", linewidth=0.5, color='.25')\n",
        "# melihat pertumbuhan fitness terbaik\n",
        "plt.plot(range(1, gen + 1), best,'#008000')\n",
        "plt.title(\"Growth of fitness per generation\")\n",
        "plt.xlabel(\"Generation\")\n",
        "plt.ylabel(\"Best Fitness\")\n",
        "plt.show()"
      ],
      "execution_count": null,
      "outputs": [
        {
          "output_type": "display_data",
          "data": {
            "image/png": "[encoded data removed]",
            "text/plain": [
              "<Figure size 432x288 with 1 Axes>"
            ]
          },
          "metadata": {
            "tags": [],
            "needs_background": "light"
          }
        }
      ]
    }
  ]
}